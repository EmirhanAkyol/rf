{
 "cells": [
  {
   "cell_type": "code",
   "execution_count": 1,
   "metadata": {},
   "outputs": [],
   "source": [
    "import pandas as pd\n",
    "import numpy as np\n",
    "from sklearn.model_selection import train_test_split\n",
    "from sklearn.preprocessing import StandardScaler\n",
    "from sklearn.neighbors import KNeighborsClassifier\n",
    "from sklearn.metrics import confusion_matrix\n",
    "from sklearn.metrics import f1_score\n",
    "from sklearn.metrics import classification_report\n",
    "from sklearn.metrics import accuracy_score"
   ]
  },
  {
   "cell_type": "code",
   "execution_count": 2,
   "metadata": {},
   "outputs": [],
   "source": [
    "df = pd.read_csv(\"birlesmis_accel_phone.txt\")"
   ]
  },
  {
   "cell_type": "code",
   "execution_count": 3,
   "metadata": {},
   "outputs": [
    {
     "data": {
      "text/html": [
       "<div>\n",
       "<style scoped>\n",
       "    .dataframe tbody tr th:only-of-type {\n",
       "        vertical-align: middle;\n",
       "    }\n",
       "\n",
       "    .dataframe tbody tr th {\n",
       "        vertical-align: top;\n",
       "    }\n",
       "\n",
       "    .dataframe thead th {\n",
       "        text-align: right;\n",
       "    }\n",
       "</style>\n",
       "<table border=\"1\" class=\"dataframe\">\n",
       "  <thead>\n",
       "    <tr style=\"text-align: right;\">\n",
       "      <th></th>\n",
       "      <th>Subject_id</th>\n",
       "      <th>Activity_label</th>\n",
       "      <th>Time_stamp</th>\n",
       "      <th>x</th>\n",
       "      <th>y</th>\n",
       "      <th>z</th>\n",
       "    </tr>\n",
       "  </thead>\n",
       "  <tbody>\n",
       "    <tr>\n",
       "      <th>0</th>\n",
       "      <td>1600</td>\n",
       "      <td>A</td>\n",
       "      <td>252207666810782</td>\n",
       "      <td>-0.364761</td>\n",
       "      <td>8.793503</td>\n",
       "      <td>1.055084</td>\n",
       "    </tr>\n",
       "    <tr>\n",
       "      <th>1</th>\n",
       "      <td>1600</td>\n",
       "      <td>A</td>\n",
       "      <td>252207717164786</td>\n",
       "      <td>-0.879730</td>\n",
       "      <td>9.768784</td>\n",
       "      <td>1.016998</td>\n",
       "    </tr>\n",
       "    <tr>\n",
       "      <th>2</th>\n",
       "      <td>1600</td>\n",
       "      <td>A</td>\n",
       "      <td>252207767518790</td>\n",
       "      <td>2.001495</td>\n",
       "      <td>11.109070</td>\n",
       "      <td>2.619156</td>\n",
       "    </tr>\n",
       "    <tr>\n",
       "      <th>3</th>\n",
       "      <td>1600</td>\n",
       "      <td>A</td>\n",
       "      <td>252207817872794</td>\n",
       "      <td>0.450623</td>\n",
       "      <td>12.651642</td>\n",
       "      <td>0.184555</td>\n",
       "    </tr>\n",
       "    <tr>\n",
       "      <th>4</th>\n",
       "      <td>1600</td>\n",
       "      <td>A</td>\n",
       "      <td>252207868226798</td>\n",
       "      <td>-2.164352</td>\n",
       "      <td>13.928436</td>\n",
       "      <td>-4.422485</td>\n",
       "    </tr>\n",
       "  </tbody>\n",
       "</table>\n",
       "</div>"
      ],
      "text/plain": [
       "   Subject_id Activity_label       Time_stamp         x          y         z\n",
       "0        1600              A  252207666810782 -0.364761   8.793503  1.055084\n",
       "1        1600              A  252207717164786 -0.879730   9.768784  1.016998\n",
       "2        1600              A  252207767518790  2.001495  11.109070  2.619156\n",
       "3        1600              A  252207817872794  0.450623  12.651642  0.184555\n",
       "4        1600              A  252207868226798 -2.164352  13.928436 -4.422485"
      ]
     },
     "execution_count": 3,
     "metadata": {},
     "output_type": "execute_result"
    }
   ],
   "source": [
    "df.head()"
   ]
  },
  {
   "cell_type": "code",
   "execution_count": 4,
   "metadata": {},
   "outputs": [],
   "source": [
    "df['x']=((df['x']-df['x'].min())/(df['x'].max()-df['x'].min()))  \n",
    "df['y']=((df['y']-df['y'].min())/(df['y'].max()-df['y'].min()))   \n",
    "df['z']=((df['z']-df['z'].min())/(df['z'].max()-df['z'].min()))"
   ]
  },
  {
   "cell_type": "code",
   "execution_count": 5,
   "metadata": {},
   "outputs": [],
   "source": [
    "df.to_csv(\"birlesmis_accel_s_phone.txt\", index=False)"
   ]
  },
  {
   "cell_type": "code",
   "execution_count": 6,
   "metadata": {},
   "outputs": [],
   "source": [
    "new_df=pd.read_csv(\"birlesmis_accel_s_phone.txt\")"
   ]
  },
  {
   "cell_type": "code",
   "execution_count": 7,
   "metadata": {},
   "outputs": [
    {
     "data": {
      "text/html": [
       "<div>\n",
       "<style scoped>\n",
       "    .dataframe tbody tr th:only-of-type {\n",
       "        vertical-align: middle;\n",
       "    }\n",
       "\n",
       "    .dataframe tbody tr th {\n",
       "        vertical-align: top;\n",
       "    }\n",
       "\n",
       "    .dataframe thead th {\n",
       "        text-align: right;\n",
       "    }\n",
       "</style>\n",
       "<table border=\"1\" class=\"dataframe\">\n",
       "  <thead>\n",
       "    <tr style=\"text-align: right;\">\n",
       "      <th></th>\n",
       "      <th>Subject_id</th>\n",
       "      <th>Activity_label</th>\n",
       "      <th>Time_stamp</th>\n",
       "      <th>x</th>\n",
       "      <th>y</th>\n",
       "      <th>z</th>\n",
       "    </tr>\n",
       "  </thead>\n",
       "  <tbody>\n",
       "    <tr>\n",
       "      <th>0</th>\n",
       "      <td>1600</td>\n",
       "      <td>A</td>\n",
       "      <td>252207666810782</td>\n",
       "      <td>0.497676</td>\n",
       "      <td>0.610760</td>\n",
       "      <td>0.538987</td>\n",
       "    </tr>\n",
       "    <tr>\n",
       "      <th>1</th>\n",
       "      <td>1600</td>\n",
       "      <td>A</td>\n",
       "      <td>252207717164786</td>\n",
       "      <td>0.494395</td>\n",
       "      <td>0.617586</td>\n",
       "      <td>0.538729</td>\n",
       "    </tr>\n",
       "    <tr>\n",
       "      <th>2</th>\n",
       "      <td>1600</td>\n",
       "      <td>A</td>\n",
       "      <td>252207767518790</td>\n",
       "      <td>0.512752</td>\n",
       "      <td>0.626966</td>\n",
       "      <td>0.549587</td>\n",
       "    </tr>\n",
       "    <tr>\n",
       "      <th>3</th>\n",
       "      <td>1600</td>\n",
       "      <td>A</td>\n",
       "      <td>252207817872794</td>\n",
       "      <td>0.502871</td>\n",
       "      <td>0.637761</td>\n",
       "      <td>0.533088</td>\n",
       "    </tr>\n",
       "    <tr>\n",
       "      <th>4</th>\n",
       "      <td>1600</td>\n",
       "      <td>A</td>\n",
       "      <td>252207868226798</td>\n",
       "      <td>0.486210</td>\n",
       "      <td>0.646697</td>\n",
       "      <td>0.501866</td>\n",
       "    </tr>\n",
       "  </tbody>\n",
       "</table>\n",
       "</div>"
      ],
      "text/plain": [
       "   Subject_id Activity_label       Time_stamp         x         y         z\n",
       "0        1600              A  252207666810782  0.497676  0.610760  0.538987\n",
       "1        1600              A  252207717164786  0.494395  0.617586  0.538729\n",
       "2        1600              A  252207767518790  0.512752  0.626966  0.549587\n",
       "3        1600              A  252207817872794  0.502871  0.637761  0.533088\n",
       "4        1600              A  252207868226798  0.486210  0.646697  0.501866"
      ]
     },
     "execution_count": 7,
     "metadata": {},
     "output_type": "execute_result"
    }
   ],
   "source": [
    "new_df.head()"
   ]
  },
  {
   "cell_type": "code",
   "execution_count": 8,
   "metadata": {},
   "outputs": [
    {
     "data": {
      "text/html": [
       "<div>\n",
       "<style scoped>\n",
       "    .dataframe tbody tr th:only-of-type {\n",
       "        vertical-align: middle;\n",
       "    }\n",
       "\n",
       "    .dataframe tbody tr th {\n",
       "        vertical-align: top;\n",
       "    }\n",
       "\n",
       "    .dataframe thead th {\n",
       "        text-align: right;\n",
       "    }\n",
       "</style>\n",
       "<table border=\"1\" class=\"dataframe\">\n",
       "  <thead>\n",
       "    <tr style=\"text-align: right;\">\n",
       "      <th></th>\n",
       "      <th>Subject_id</th>\n",
       "      <th>Time_stamp</th>\n",
       "      <th>x</th>\n",
       "      <th>y</th>\n",
       "      <th>z</th>\n",
       "    </tr>\n",
       "  </thead>\n",
       "  <tbody>\n",
       "    <tr>\n",
       "      <th>0.01</th>\n",
       "      <td>1600.0</td>\n",
       "      <td>1.302010e+12</td>\n",
       "      <td>0.432145</td>\n",
       "      <td>0.428962</td>\n",
       "      <td>0.466511</td>\n",
       "    </tr>\n",
       "    <tr>\n",
       "      <th>0.99</th>\n",
       "      <td>1650.0</td>\n",
       "      <td>1.818517e+15</td>\n",
       "      <td>0.577262</td>\n",
       "      <td>0.642974</td>\n",
       "      <td>0.599016</td>\n",
       "    </tr>\n",
       "  </tbody>\n",
       "</table>\n",
       "</div>"
      ],
      "text/plain": [
       "      Subject_id    Time_stamp         x         y         z\n",
       "0.01      1600.0  1.302010e+12  0.432145  0.428962  0.466511\n",
       "0.99      1650.0  1.818517e+15  0.577262  0.642974  0.599016"
      ]
     },
     "execution_count": 8,
     "metadata": {},
     "output_type": "execute_result"
    }
   ],
   "source": [
    "low=0.01\n",
    "high=0.99\n",
    "new_df.quantile([low,high])"
   ]
  },
  {
   "cell_type": "code",
   "execution_count": 9,
   "metadata": {},
   "outputs": [],
   "source": [
    "qdf=new_df.quantile([low,high])"
   ]
  },
  {
   "cell_type": "code",
   "execution_count": 10,
   "metadata": {},
   "outputs": [
    {
     "data": {
      "text/plain": [
       "Subject_id        0\n",
       "Activity_label    0\n",
       "Time_stamp        0\n",
       "x                 0\n",
       "y                 0\n",
       "z                 0\n",
       "dtype: int64"
      ]
     },
     "execution_count": 10,
     "metadata": {},
     "output_type": "execute_result"
    }
   ],
   "source": [
    "new_df.isnull().sum()"
   ]
  },
  {
   "cell_type": "code",
   "execution_count": 11,
   "metadata": {},
   "outputs": [],
   "source": [
    "new_df.x=new_df.x.apply(lambda v: v if qdf.x[low]< v < qdf.x[high] else np.nan)"
   ]
  },
  {
   "cell_type": "code",
   "execution_count": 12,
   "metadata": {},
   "outputs": [],
   "source": [
    "new_df.y=new_df.y.apply(lambda v: v if qdf.y[low]< v < qdf.y[high] else np.nan)"
   ]
  },
  {
   "cell_type": "code",
   "execution_count": 13,
   "metadata": {},
   "outputs": [],
   "source": [
    "new_df.z=new_df.z.apply(lambda v: v if qdf.z[low]< v < qdf.z[high] else np.nan)"
   ]
  },
  {
   "cell_type": "code",
   "execution_count": 14,
   "metadata": {},
   "outputs": [
    {
     "data": {
      "text/plain": [
       "Subject_id            0\n",
       "Activity_label        0\n",
       "Time_stamp            0\n",
       "x                 96095\n",
       "y                 96090\n",
       "z                 96244\n",
       "dtype: int64"
      ]
     },
     "execution_count": 14,
     "metadata": {},
     "output_type": "execute_result"
    }
   ],
   "source": [
    "new_df.isnull().sum()"
   ]
  },
  {
   "cell_type": "code",
   "execution_count": 15,
   "metadata": {},
   "outputs": [],
   "source": [
    "new_df.dropna(inplace=True)"
   ]
  },
  {
   "cell_type": "code",
   "execution_count": 16,
   "metadata": {},
   "outputs": [
    {
     "data": {
      "text/plain": [
       "Subject_id        0\n",
       "Activity_label    0\n",
       "Time_stamp        0\n",
       "x                 0\n",
       "y                 0\n",
       "z                 0\n",
       "dtype: int64"
      ]
     },
     "execution_count": 16,
     "metadata": {},
     "output_type": "execute_result"
    }
   ],
   "source": [
    "new_df.isnull().sum()"
   ]
  },
  {
   "cell_type": "code",
   "execution_count": 19,
   "metadata": {},
   "outputs": [],
   "source": [
    "X = np.array(new_df.drop(['Activity_label'],axis=1))\n",
    "y = np.array(new_df['Activity_label'])"
   ]
  },
  {
   "cell_type": "code",
   "execution_count": 20,
   "metadata": {},
   "outputs": [],
   "source": [
    "X_train, X_test, y_train, y_test = train_test_split(X,y,random_state=0,test_size=0.2)"
   ]
  },
  {
   "cell_type": "code",
   "execution_count": 21,
   "metadata": {},
   "outputs": [],
   "source": [
    "from sklearn.ensemble import RandomForestClassifier"
   ]
  },
  {
   "cell_type": "code",
   "execution_count": 22,
   "metadata": {},
   "outputs": [],
   "source": [
    "classifier = RandomForestClassifier(n_estimators=20, random_state=0)\n",
    "classifier.fit(X_train, y_train)\n",
    "y_pred = classifier.predict(X_test)"
   ]
  },
  {
   "cell_type": "code",
   "execution_count": 23,
   "metadata": {},
   "outputs": [
    {
     "data": {
      "text/plain": [
       "'rfc_X=RandomForestClassifier()\\nX_train=rfc_X.fit_transform(X_train)\\nX_test=rfc_X.transform(X_test)'"
      ]
     },
     "execution_count": 23,
     "metadata": {},
     "output_type": "execute_result"
    }
   ],
   "source": [
    "\"\"\"rfc_X=RandomForestClassifier()\n",
    "X_train=rfc_X.fit_transform(X_train)\n",
    "X_test=rfc_X.transform(X_test)\"\"\""
   ]
  },
  {
   "cell_type": "code",
   "execution_count": 24,
   "metadata": {},
   "outputs": [],
   "source": [
    "from sklearn.metrics import classification_report, confusion_matrix, accuracy_score"
   ]
  },
  {
   "cell_type": "code",
   "execution_count": 25,
   "metadata": {},
   "outputs": [
    {
     "name": "stdout",
     "output_type": "stream",
     "text": [
      "[[46340   228    70     0     0     1     6     1     2     1     5     0\n",
      "     63    54    17     0     0     3]\n",
      " [  462 34151    39     3     2     1    13     5     3    10     2    10\n",
      "    128   124    69     0     3    12]\n",
      " [  106   168 45603     6     0     4    12     6     3     3     7     2\n",
      "     73    38    33     0     2    11]\n",
      " [    5    43    31 51327    18     7     1     1     2     5     8     7\n",
      "      4     4     8     3     7    12]\n",
      " [   18    39    58     9 54018     7     5     0     1     0     0     0\n",
      "      5     1     1     2     7    33]\n",
      " [    2    13     5     4     3 48736     4     1     0     3     2     0\n",
      "      0     3     1     3     2     5]\n",
      " [   11    27    18     1     5     4 53423     4     7     0     4     2\n",
      "      3     5     0     1    11    10]\n",
      " [    7    21     9     0     2     0     1 52802     5     9     5     6\n",
      "      4     1     0     1     3     1]\n",
      " [    8    14    20     3     2     3    10     8 52029     6    10    10\n",
      "      3     1     3     4     2    17]\n",
      " [   12    17    11     0     0     1     4     9     6 49025     6    11\n",
      "      2     1     0     1     2     7]\n",
      " [    9    15     5     3     0     1     4    14     9     5 55166    14\n",
      "      3     1     3     1     7    22]\n",
      " [    4    14     9     3     1     2     6    10     6    12     3 52998\n",
      "      8     1     4     4     7    17]\n",
      " [   99   364    56     3     2     1    12     5     1     3     2     1\n",
      "  51289    70    67     0     1     7]\n",
      " [   53   167    19     0     2     1    12     5    11     7     6     7\n",
      "    279 52258    86     2     4     6]\n",
      " [   36   171    31     4     1     0     8     6     6     4     3     6\n",
      "    222   231 51221     0     5    10]\n",
      " [    5    21     8     9     4    14     3     2     3     1     3     0\n",
      "      1     2     2 50818     9    18]\n",
      " [    4    18     8     5     5     8     6     3     5     6     3    10\n",
      "      4     5     6     6 53067    32]\n",
      " [   25    22   122     4     6     9     8     9     9     5    29     1\n",
      "      7    11     7     6    21 52367]]\n",
      "              precision    recall  f1-score   support\n",
      "\n",
      "           A       0.98      0.99      0.99     46791\n",
      "           B       0.96      0.97      0.97     35037\n",
      "           C       0.99      0.99      0.99     46077\n",
      "           D       1.00      1.00      1.00     51493\n",
      "           E       1.00      1.00      1.00     54204\n",
      "           F       1.00      1.00      1.00     48787\n",
      "           G       1.00      1.00      1.00     53536\n",
      "           H       1.00      1.00      1.00     52877\n",
      "           I       1.00      1.00      1.00     52153\n",
      "           J       1.00      1.00      1.00     49115\n",
      "           K       1.00      1.00      1.00     55282\n",
      "           L       1.00      1.00      1.00     53109\n",
      "           M       0.98      0.99      0.99     51983\n",
      "           O       0.99      0.99      0.99     52925\n",
      "           P       0.99      0.99      0.99     51965\n",
      "           Q       1.00      1.00      1.00     50923\n",
      "           R       1.00      1.00      1.00     53201\n",
      "           S       1.00      0.99      1.00     52668\n",
      "\n",
      "    accuracy                           0.99    912126\n",
      "   macro avg       0.99      0.99      0.99    912126\n",
      "weighted avg       0.99      0.99      0.99    912126\n",
      "\n",
      "0.9939832873966974\n"
     ]
    }
   ],
   "source": [
    "print(confusion_matrix(y_test,y_pred))\n",
    "print(classification_report(y_test,y_pred))\n",
    "print(accuracy_score(y_test, y_pred))"
   ]
  },
  {
   "cell_type": "code",
   "execution_count": null,
   "metadata": {},
   "outputs": [],
   "source": [
    "#classifier= KNeighborsClassifier(n_neighbors=63,p=2,metric='euclidean')"
   ]
  },
  {
   "cell_type": "code",
   "execution_count": null,
   "metadata": {},
   "outputs": [],
   "source": [
    "#classifier.fit(X_train,y_train)"
   ]
  },
  {
   "cell_type": "code",
   "execution_count": null,
   "metadata": {},
   "outputs": [],
   "source": [
    "#y_pred=classifier.predict(X_test)\n",
    "#y_pred"
   ]
  },
  {
   "cell_type": "code",
   "execution_count": null,
   "metadata": {},
   "outputs": [],
   "source": [
    "#cm=confusion_matrix(y_test,y_pred)\n",
    "#cm"
   ]
  },
  {
   "cell_type": "code",
   "execution_count": null,
   "metadata": {},
   "outputs": [],
   "source": [
    "#accuracy=accuracy_score(y_test,y_pred)"
   ]
  },
  {
   "cell_type": "code",
   "execution_count": null,
   "metadata": {},
   "outputs": [],
   "source": [
    "#accuracy_percantage=100*accuracy\n",
    "#accuracy_percantage"
   ]
  },
  {
   "cell_type": "code",
   "execution_count": null,
   "metadata": {},
   "outputs": [],
   "source": [
    "#print(classification_report(y_test, y_pred))"
   ]
  }
 ],
 "metadata": {
  "kernelspec": {
   "display_name": "Python 3",
   "language": "python",
   "name": "python3"
  },
  "language_info": {
   "codemirror_mode": {
    "name": "ipython",
    "version": 3
   },
   "file_extension": ".py",
   "mimetype": "text/x-python",
   "name": "python",
   "nbconvert_exporter": "python",
   "pygments_lexer": "ipython3",
   "version": "3.7.6"
  }
 },
 "nbformat": 4,
 "nbformat_minor": 4
}
